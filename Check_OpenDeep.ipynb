{
 "worksheets": [
  {
   "cells": [
    {
     "cell_type": "markdown",
     "metadata": {},
     "source": [
      "## OpenDeep Example"
     ]
    },
    {
     "cell_type": "markdown",
     "metadata": {},
     "source": [
      "### Manual Run"
     ]
    },
    {
     "cell_type": "code",
     "metadata": {},
     "outputs": [],
     "input": [
      "from __future__ import print_function\n",
      "from opendeep.log.logger import config_root_logger\n",
      "from opendeep.models.container import Prototype\n",
      "from opendeep.models.single_layer.basic import BasicLayer, SoftmaxLayer\n",
      "from opendeep.optimization.stochastic_gradient_descent import SGD\n",
      "from opendeep.data.standard_datasets.image.mnist import MNIST, datasets\n",
      "from opendeep.monitor.monitor import Monitor\n",
      "from opendeep.monitor.plot import Plot\n",
      "\n",
      "config_root_logger()"
     ],
     "language": "python"
    },
    {
     "cell_type": "code",
     "metadata": {},
     "outputs": [],
     "input": [
      "mlp = Prototype()\n",
      "mlp.add(BasicLayer(input_size=28*28, output_size=512, activation='rectifier', noise='dropout'))\n",
      "mlp.add(BasicLayer(output_size=512, activation='rectifier', noise='dropout'))\n",
      "mlp.add(SoftmaxLayer(output_size=10))"
     ],
     "language": "python"
    },
    {
     "cell_type": "code",
     "metadata": {},
     "outputs": [],
     "input": [
      "mnist_dataset = MNIST(concat_train_valid=False)\n",
      "\n",
      "optimizer = SGD(model=mlp,\n",
      "                dataset=mnist_dataset,\n",
      "                n_epoch=500,\n",
      "                batch_size=600,\n",
      "                learning_rate=.01,\n",
      "                momentum=.9,\n",
      "                nesterov_momentum=True,\n",
      "                save_frequency=500,\n",
      "                early_stop_threshold=0.997)\n",
      "\n",
      "error = Monitor('error', mlp.get_monitors()['softmax_error'], train=True, valid=True, test=True)\n",
      "plot = None\n",
      "# uncomment this next line if you want to use Bokeh to graph your cost/error. Make sure you started Bokeh with `bokeh-server`\n",
      "# plot = Plot(\"OpenDeep MLP Example\", monitor_channels=error, open_browser=True)\n",
      "\n",
      "optimizer.train(monitor_channels=error, plot=plot)"
     ],
     "language": "python"
    },
    {
     "cell_type": "code",
     "metadata": {},
     "outputs": [],
     "input": [
      "n_examples = 50\n",
      "test_data, test_labels = mnist_dataset.getSubset(datasets.TEST)\n",
      "predictions = mlp.run(test_data[:n_examples].eval())\n",
      "\n",
      "print(\"Predictions:\", predictions)\n",
      "print(\"Actual     :\", test_labels[:n_examples].eval().astype('int32'))"
     ],
     "language": "python"
    },
    {
     "cell_type": "code",
     "metadata": {},
     "outputs": [],
     "input": [
      ""
     ],
     "language": "python"
    }
   ]
  }
 ],
 "cells": [],
 "metadata": {
  "name": "",
  "signature": "sha256:9e465a065066bef4682bc4b96548d43e565c1b4ff762c116d57177a844ddee15"
 },
 "nbformat": 3,
 "nbformat_minor": 0
}